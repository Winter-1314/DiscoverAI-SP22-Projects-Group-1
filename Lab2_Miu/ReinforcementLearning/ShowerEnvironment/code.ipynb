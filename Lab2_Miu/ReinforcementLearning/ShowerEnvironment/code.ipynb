{
    "metadata": {
        "kernelspec": {
            "name": "python3",
            "display_name": "Python 3 (ipykernel)",
            "language": "python"
        }
    },
    "nbformat": 4,
    "nbformat_minor": 2,
    "cells": [
        {
            "attachments": {},
            "cell_type": "markdown",
            "metadata": {},
            "source": [
                "# **Custom Environment for Reinforcement Learning**"
            ]
        },
        {
            "attachments": {},
            "cell_type": "markdown",
            "metadata": {},
            "source": [
                "The code below is taken from Nicholas Renotte's tutorial on how to create Custom environments for reinforcement learning. [Tutorial](https://youtu.be/Mut_u40Sqz4?t=8940), [code on github](https://github.com/nicknochnack/ReinforcementLearningCourse/blob/main/Project%203%20-%20Custom%20Environment.ipynb).\n",
                "\n",
                "You are encouraged to visit the links above and check out the full code. In this lab, you will practice training a model."
            ]
        },
        {
            "attachments": {},
            "cell_type": "markdown",
            "metadata": {},
            "source": [
                "**About the problem**"
            ]
        },
        {
            "attachments": {},
            "cell_type": "markdown",
            "metadata": {},
            "source": [
                "The task is to build an agent that regulates the shower temperature to give the best shower possible every time.\n",
                "\n",
                "Based the activity of other people in the building, the temperature fluctuates randomly. Assuming that our optimal temperature is between 37 and 39 degrees, we want to train an agent to automatically respond to changes in temperature and get it back within the preferred range.\n",
                "\n",
                "Note that the agent does not know the preffered range ahead of time, and should instead learn the types of adjustments it can make to get a reward."
            ]
        },
        {
            "attachments": {},
            "cell_type": "markdown",
            "metadata": {},
            "source": [
                "**Import libraries**"
            ]
        },
        {
            "cell_type": "code",
            "execution_count": 1,
            "metadata": {},
            "outputs": [],
            "source": [
                "import os\n",
                "# Avoid reinstalling packages that are available on edstem\n",
                "if not os.getenv(\"ED_COURSE_ID\"):\n",
                "    !pip install tensorflow stable_baselines3 torch collections gym box2d-py --user\n",
                "\n",
                "# Import gym libraries\n",
                "import gym \n",
                "from gym import Env # the supperclass to build our own environment\n",
                "# All different types of spaces available in Gym\n",
                "from gym.spaces import Discrete, Box, Dict, Tuple, MultiBinary, MultiDiscrete \n",
                "\n",
                "# Import helpers\n",
                "import numpy as np\n",
                "import random\n",
                "\n",
                "#Import stable bbaselines libraries\n",
                "from stable_baselines3 import PPO\n",
                "from stable_baselines3.common.vec_env import DummyVecEnv\n",
                "from stable_baselines3.common.evaluation import evaluate_policy"
            ]
        },
        {
            "attachments": {},
            "cell_type": "markdown",
            "metadata": {},
            "source": [
                "# Inspect types of spaces"
            ]
        },
        {
            "attachments": {},
            "cell_type": "markdown",
            "metadata": {},
            "source": [
                "There are four key types of Gym spaces:\n",
                "Box, Discrete, Multibinary and MultiDiscrete.\n",
                "\n",
                "There are two wrapper spaces, Tuple and Dict that help group different spaces together.\n",
                "\n",
                "These spaces can be used to create simple environment, like the shower environment in the following example."
            ]
        },
        {
            "cell_type": "code",
            "execution_count": 2,
            "metadata": {},
            "outputs": [],
            "source": [
                "# Define a discrete space\n",
                "disc = Discrete(3)"
            ]
        },
        {
            "cell_type": "code",
            "execution_count": 3,
            "metadata": {},
            "outputs": [
                {
                    "data": {
                        "text/plain": "0"
                    },
                    "execution_count": 3,
                    "metadata": {},
                    "output_type": "execute_result"
                }
            ],
            "source": [
                "# Sample the discrete space for a value (between 0 and 2)\n",
                "disc.sample()"
            ]
        },
        {
            "cell_type": "code",
            "execution_count": 4,
            "metadata": {},
            "outputs": [],
            "source": [
                "# Define a box space\n",
                "box = Box(0,1,shape=(3,3))"
            ]
        },
        {
            "cell_type": "code",
            "execution_count": 5,
            "metadata": {},
            "outputs": [
                {
                    "data": {
                        "text/plain": "array([[0.9711229 , 0.9689815 , 0.73695385],\n       [0.23108   , 0.72942007, 0.59844285],\n       [0.03438425, 0.24518389, 0.7072606 ]], dtype=float32)"
                    },
                    "execution_count": 5,
                    "metadata": {},
                    "output_type": "execute_result"
                }
            ],
            "source": [
                "#TODO: Sample the box space for a value\n",
                "box.sample()"
            ]
        },
        {
            "cell_type": "code",
            "execution_count": 6,
            "metadata": {},
            "outputs": [],
            "source": [
                "# Define a tuple space and combine a discrete and box spaces\n",
                "tup = Tuple((Discrete(2), Box(0,100, shape=(1,))))"
            ]
        },
        {
            "cell_type": "code",
            "execution_count": 7,
            "metadata": {},
            "outputs": [
                {
                    "data": {
                        "text/plain": "(0, array([40.394714], dtype=float32))"
                    },
                    "execution_count": 7,
                    "metadata": {},
                    "output_type": "execute_result"
                }
            ],
            "source": [
                "#TODO: Sample the tuple space for a value\n",
                "tup.sample()"
            ]
        },
        {
            "cell_type": "code",
            "execution_count": 8,
            "metadata": {},
            "outputs": [
                {
                    "data": {
                        "text/plain": "OrderedDict([('height', 0), ('speed', array([94.81572], dtype=float32))])"
                    },
                    "execution_count": 8,
                    "metadata": {},
                    "output_type": "execute_result"
                }
            ],
            "source": [
                "# Define a dict space\n",
                "dic = Dict({'height':Discrete(2), \"speed\":Box(0,100, shape=(1,))})\n",
                "dic.sample()"
            ]
        },
        {
            "cell_type": "code",
            "execution_count": 9,
            "metadata": {},
            "outputs": [],
            "source": [
                "# Define a multibinary space\n",
                "multibi = MultiBinary(4)"
            ]
        },
        {
            "cell_type": "code",
            "execution_count": 10,
            "metadata": {},
            "outputs": [
                {
                    "data": {
                        "text/plain": "array([0, 1, 1, 1], dtype=int8)"
                    },
                    "execution_count": 10,
                    "metadata": {},
                    "output_type": "execute_result"
                }
            ],
            "source": [
                "#TODO: Sample the multibinary space for a value\n",
                "multibi.sample()"
            ]
        },
        {
            "cell_type": "code",
            "execution_count": 11,
            "metadata": {},
            "outputs": [],
            "source": [
                "# Define a multidiscrete space\n",
                "multidi = MultiDiscrete([5,2,2])"
            ]
        },
        {
            "cell_type": "code",
            "execution_count": 12,
            "metadata": {},
            "outputs": [
                {
                    "data": {
                        "text/plain": "array([4, 0, 0])"
                    },
                    "execution_count": 12,
                    "metadata": {},
                    "output_type": "execute_result"
                }
            ],
            "source": [
                "#TODO: Sample the multidiscrete space for a value\n",
                "multidi.sample()"
            ]
        },
        {
            "attachments": {},
            "cell_type": "markdown",
            "metadata": {},
            "source": [
                "# Create a custom environment"
            ]
        },
        {
            "cell_type": "code",
            "execution_count": 13,
            "metadata": {},
            "outputs": [],
            "source": [
                "# Define a shower environment class with four key functions\n",
                "class ShowerEnv(Env):\n",
                "    # Define a function to initialize the environment\n",
                "    def __init__(self):\n",
                "        # Define the discrete action space: \n",
                "        # Actions we can take, down, hold, up\n",
                "        self.action_space = Discrete(3)\n",
                "        # Define a temperature range from 0 to 100\n",
                "        self.observation_space = Box(low=np.array([0]), high=np.array([100]))\n",
                "        # Set initial state: starting temp is 38 +- 3\n",
                "        self.state = 38 + random.randint(-3,3)\n",
                "        # Set shower length: set to 60 seconds for testing\n",
                "        self.shower_length = 60\n",
                "\n",
                "    # Define the step function for what to do in one action step    \n",
                "    def step(self, action):\n",
                "        # Apply impact of the action on current state\n",
                "        # 0 -1 = -1 temperature\n",
                "        # 1 -1 = 0 \n",
                "        # 2 -1 = 1 temperature \n",
                "        self.state += action -1 \n",
                "        # Reduce shower length by 1 second at each action\n",
                "        self.shower_length -= 1 \n",
                "        \n",
                "        # Calculate reward\n",
                "        # If the temperature is within preferred range, the reward is positive\n",
                "        if self.state \u003e= 37 and self.state \u003c= 39: \n",
                "            reward = 1 \n",
                "        # If the reward is outside of preferred range, the reward is negative \n",
                "        else: \n",
                "            reward = -1 \n",
                "        \n",
                "        # Check if shower is done\n",
                "        if self.shower_length \u003c= 0: \n",
                "            done = True\n",
                "        else:\n",
                "            done = False\n",
                "        \n",
                "        # Set placeholder for info\n",
                "        info = {}\n",
                "        \n",
                "        # Return step information\n",
                "        return self.state, reward, done, info\n",
                "\n",
                "    # For this lab, we will not implement a visualization of the environment\n",
                "    def render(self):\n",
                "        # Implement viz\n",
                "        pass\n",
                "    \n",
                "    # Define function to reset the environment for the next run\n",
                "    def reset(self):\n",
                "        # Reset shower temperature to a random value between 35 and 41\n",
                "        self.state = np.array([38 + random.randint(-3,3)]).astype(float)\n",
                "        # Reset shower time\n",
                "        self.shower_length = 60 \n",
                "        return self.state"
            ]
        },
        {
            "attachments": {},
            "cell_type": "markdown",
            "metadata": {},
            "source": [
                "# Test the environment"
            ]
        },
        {
            "cell_type": "code",
            "execution_count": 14,
            "metadata": {},
            "outputs": [
                {
                    "name": "stderr",
                    "output_type": "stream",
                    "text": "/usr/lib/python3.10/site-packages/gym/spaces/box.py:84: UserWarning: \u001b[33mWARN: Box bound precision lowered by casting to float32\u001b[0m\n  logger.warn(f\"Box bound precision lowered by casting to {self.dtype}\")\n"
                }
            ],
            "source": [
                "# Initialize the environment\n",
                "env=ShowerEnv()"
            ]
        },
        {
            "cell_type": "code",
            "execution_count": 15,
            "metadata": {},
            "outputs": [
                {
                    "data": {
                        "text/plain": "array([60.635853], dtype=float32)"
                    },
                    "execution_count": 15,
                    "metadata": {},
                    "output_type": "execute_result"
                }
            ],
            "source": [
                "#TODO: Write code to sample the environment's observation space\n",
                "env.observation_space.sample()"
            ]
        },
        {
            "cell_type": "code",
            "execution_count": 16,
            "metadata": {},
            "outputs": [
                {
                    "data": {
                        "text/plain": "2"
                    },
                    "execution_count": 16,
                    "metadata": {},
                    "output_type": "execute_result"
                }
            ],
            "source": [
                "#TODO: Write code to sample the environment's action space\n",
                "env.action_space.sample()"
            ]
        },
        {
            "cell_type": "code",
            "execution_count": 17,
            "metadata": {},
            "outputs": [
                {
                    "data": {
                        "text/plain": "array([36.])"
                    },
                    "execution_count": 17,
                    "metadata": {},
                    "output_type": "execute_result"
                }
            ],
            "source": [
                "# Reset the environment\n",
                "env.reset()"
            ]
        },
        {
            "cell_type": "code",
            "execution_count": 18,
            "metadata": {},
            "outputs": [
                {
                    "name": "stdout",
                    "output_type": "stream",
                    "text": "Episode:1 Score:-14\nEpisode:2 Score:8\nEpisode:3 Score:-60\nEpisode:4 Score:-50\nEpisode:5 Score:-4\n"
                }
            ],
            "source": [
                "# Test five episodes of taking random Actions\n",
                "# in the environment\n",
                "episodes = 5\n",
                "for episode in range(1, episodes+1):\n",
                "    state = env.reset()\n",
                "    done = False\n",
                "    score = 0 \n",
                "    \n",
                "    while not done:\n",
                "        env.render()\n",
                "        action = env.action_space.sample()\n",
                "        n_state, reward, done, info = env.step(action)\n",
                "        score+=reward\n",
                "    print('Episode:{} Score:{}'.format(episode, score))\n",
                "    \n",
                "env.close()"
            ]
        },
        {
            "attachments": {},
            "cell_type": "markdown",
            "metadata": {},
            "source": [
                "# Earn Your Wings"
            ]
        },
        {
            "attachments": {},
            "cell_type": "markdown",
            "metadata": {},
            "source": [
                "Implement the rest of the reinforcement learning algorithm to train the model using MlpPolicy. Save the training in the log_path defined below, and evaluate the model at the end with render set to False. Add comments in your code to explain each step that you take in your implementation.\n",
                ""
            ]
        },
        {
            "cell_type": "code",
            "execution_count": 19,
            "metadata": {},
            "outputs": [
                {
                    "name": "stdout",
                    "output_type": "stream",
                    "text": "Using cpu device\nWrapping the env with a `Monitor` wrapper\nWrapping the env in a DummyVecEnv.\n"
                }
            ],
            "source": [
                "# Define a path for where to output the training log files\n",
                "log_path = os.path.join('ReinforcementLearning/ShowerEnvironment/Training', 'Logs')\n",
                "# Tabular data / tensor-based data array values utilizes MlpPolicy, passing environment\n",
                "model = PPO('MlpPolicy', env, verbose=1, tensorboard_log=log_path)"
            ]
        },
        {
            "cell_type": "code",
            "execution_count": 20,
            "metadata": {},
            "outputs": [
                {
                    "name": "stdout",
                    "output_type": "stream",
                    "text": "Logging to ReinforcementLearning/ShowerEnvironment/Training/Logs/PPO_7\n---------------------------------\n| rollout/           |          |\n|    ep_len_mean     | 60       |\n|    ep_rew_mean     | -26.8    |\n| time/              |          |\n|    fps             | 1597     |\n|    iterations      | 1        |\n|    time_elapsed    | 1        |\n|    total_timesteps | 2048     |\n---------------------------------\n-----------------------------------------\n| rollout/                |             |\n|    ep_len_mean          | 60          |\n|    ep_rew_mean          | -33.7       |\n| time/                   |             |\n|    fps                  | 1987        |\n|    iterations           | 2           |\n|    time_elapsed         | 2           |\n|    total_timesteps      | 4096        |\n| train/                  |             |\n|    approx_kl            | 0.011291262 |\n|    clip_fraction        | 0.0581      |\n|    clip_range           | 0.2         |\n|    entropy_loss         | -1.09       |\n|    explained_variance   | 5e-05       |\n|    learning_rate        | 0.0003      |\n|    loss                 | 23.7        |\n|    n_updates            | 10          |\n|    policy_gradient_loss | -0.00403    |\n|    value_loss           | 55          |\n-----------------------------------------\n-----------------------------------------\n| rollout/                |             |\n|    ep_len_mean          | 60          |\n|    ep_rew_mean          | -31.6       |\n| time/                   |             |\n|    fps                  | 2166        |\n|    iterations           | 3           |\n|    time_elapsed         | 2           |\n|    total_timesteps      | 6144        |\n| train/                  |             |\n|    approx_kl            | 0.010321792 |\n|    clip_fraction        | 0.0306      |\n|    clip_range           | 0.2         |\n|    entropy_loss         | -1.09       |\n|    explained_variance   | -0.000246   |\n|    learning_rate        | 0.0003      |\n|    loss                 | 26.9        |\n|    n_updates            | 20          |\n|    policy_gradient_loss | -0.00388    |\n|    value_loss           | 59.4        |\n-----------------------------------------\n-----------------------------------------\n| rollout/                |             |\n|    ep_len_mean          | 60          |\n|    ep_rew_mean          | -34.4       |\n| time/                   |             |\n|    fps                  | 2270        |\n|    iterations           | 4           |\n|    time_elapsed         | 3           |\n|    total_timesteps      | 8192        |\n| train/                  |             |\n|    approx_kl            | 0.012274118 |\n|    clip_fraction        | 0.125       |\n|    clip_range           | 0.2         |\n|    entropy_loss         | -1.09       |\n|    explained_variance   | 4.8e-05     |\n|    learning_rate        | 0.0003      |\n|    loss                 | 29.4        |\n|    n_updates            | 30          |\n|    policy_gradient_loss | -0.00959    |\n|    value_loss           | 61.2        |\n-----------------------------------------\n------------------------------------------\n| rollout/                |              |\n|    ep_len_mean          | 60           |\n|    ep_rew_mean          | -31.1        |\n| time/                   |              |\n|    fps                  | 2338         |\n|    iterations           | 5            |\n|    time_elapsed         | 4            |\n|    total_timesteps      | 10240        |\n| train/                  |              |\n|    approx_kl            | 0.0073362687 |\n|    clip_fraction        | 0.0541       |\n|    clip_range           | 0.2          |\n|    entropy_loss         | -1.09        |\n|    explained_variance   | -5.19e-05    |\n|    learning_rate        | 0.0003       |\n|    loss                 | 27.5         |\n|    n_updates            | 40           |\n|    policy_gradient_loss | -0.00322     |\n|    value_loss           | 67.5         |\n------------------------------------------\n-----------------------------------------\n| rollout/                |             |\n|    ep_len_mean          | 60          |\n|    ep_rew_mean          | -29.1       |\n| time/                   |             |\n|    fps                  | 2384        |\n|    iterations           | 6           |\n|    time_elapsed         | 5           |\n|    total_timesteps      | 12288       |\n| train/                  |             |\n|    approx_kl            | 0.007885767 |\n|    clip_fraction        | 0.0215      |\n|    clip_range           | 0.2         |\n|    entropy_loss         | -1.08       |\n|    explained_variance   | 7.87e-06    |\n|    learning_rate        | 0.0003      |\n|    loss                 | 40.8        |\n|    n_updates            | 50          |\n|    policy_gradient_loss | -0.00214    |\n|    value_loss           | 74.7        |\n-----------------------------------------\n-----------------------------------------\n| rollout/                |             |\n|    ep_len_mean          | 60          |\n|    ep_rew_mean          | -23.5       |\n| time/                   |             |\n|    fps                  | 2414        |\n|    iterations           | 7           |\n|    time_elapsed         | 5           |\n|    total_timesteps      | 14336       |\n| train/                  |             |\n|    approx_kl            | 0.009394014 |\n|    clip_fraction        | 0.0458      |\n|    clip_range           | 0.2         |\n|    entropy_loss         | -1.04       |\n|    explained_variance   | -6.41e-05   |\n|    learning_rate        | 0.0003      |\n|    loss                 | 47.2        |\n|    n_updates            | 60          |\n|    policy_gradient_loss | -0.00361    |\n|    value_loss           | 96.7        |\n-----------------------------------------\n-----------------------------------------\n| rollout/                |             |\n|    ep_len_mean          | 60          |\n|    ep_rew_mean          | -25.4       |\n| time/                   |             |\n|    fps                  | 2439        |\n|    iterations           | 8           |\n|    time_elapsed         | 6           |\n|    total_timesteps      | 16384       |\n| train/                  |             |\n|    approx_kl            | 0.014859354 |\n|    clip_fraction        | 0.105       |\n|    clip_range           | 0.2         |\n|    entropy_loss         | -0.972      |\n|    explained_variance   | 2.87e-05    |\n|    learning_rate        | 0.0003      |\n|    loss                 | 43.4        |\n|    n_updates            | 70          |\n|    policy_gradient_loss | -0.00753    |\n|    value_loss           | 77.9        |\n-----------------------------------------\n-----------------------------------------\n| rollout/                |             |\n|    ep_len_mean          | 60          |\n|    ep_rew_mean          | -25         |\n| time/                   |             |\n|    fps                  | 2460        |\n|    iterations           | 9           |\n|    time_elapsed         | 7           |\n|    total_timesteps      | 18432       |\n| train/                  |             |\n|    approx_kl            | 0.008766018 |\n|    clip_fraction        | 0.0579      |\n|    clip_range           | 0.2         |\n|    entropy_loss         | -0.973      |\n|    explained_variance   | 0.000309    |\n|    learning_rate        | 0.0003      |\n|    loss                 | 41.2        |\n|    n_updates            | 80          |\n|    policy_gradient_loss | -0.00652    |\n|    value_loss           | 82.2        |\n-----------------------------------------\n------------------------------------------\n| rollout/                |              |\n|    ep_len_mean          | 60           |\n|    ep_rew_mean          | -26.8        |\n| time/                   |              |\n|    fps                  | 2477         |\n|    iterations           | 10           |\n|    time_elapsed         | 8            |\n|    total_timesteps      | 20480        |\n| train/                  |              |\n|    approx_kl            | 0.0041052196 |\n|    clip_fraction        | 0.0137       |\n|    clip_range           | 0.2          |\n|    entropy_loss         | -0.968       |\n|    explained_variance   | -0.00138     |\n|    learning_rate        | 0.0003       |\n|    loss                 | 40.9         |\n|    n_updates            | 90           |\n|    policy_gradient_loss | -0.000451    |\n|    value_loss           | 82.6         |\n------------------------------------------\n------------------------------------------\n| rollout/                |              |\n|    ep_len_mean          | 60           |\n|    ep_rew_mean          | -25.5        |\n| time/                   |              |\n|    fps                  | 2490         |\n|    iterations           | 11           |\n|    time_elapsed         | 9            |\n|    total_timesteps      | 22528        |\n| train/                  |              |\n|    approx_kl            | 0.0071498984 |\n|    clip_fraction        | 0.0689       |\n|    clip_range           | 0.2          |\n|    entropy_loss         | -0.907       |\n|    explained_variance   | 0.000475     |\n|    learning_rate        | 0.0003       |\n|    loss                 | 49.2         |\n|    n_updates            | 100          |\n|    policy_gradient_loss | -0.00447     |\n|    value_loss           | 89.7         |\n------------------------------------------\n-----------------------------------------\n| rollout/                |             |\n|    ep_len_mean          | 60          |\n|    ep_rew_mean          | -24.9       |\n| time/                   |             |\n|    fps                  | 2503        |\n|    iterations           | 12          |\n|    time_elapsed         | 9           |\n|    total_timesteps      | 24576       |\n| train/                  |             |\n|    approx_kl            | 0.004500881 |\n|    clip_fraction        | 0.0306      |\n|    clip_range           | 0.2         |\n|    entropy_loss         | -0.884      |\n|    explained_variance   | -0.000495   |\n|    learning_rate        | 0.0003      |\n|    loss                 | 37.6        |\n|    n_updates            | 110         |\n|    policy_gradient_loss | -0.00132    |\n|    value_loss           | 80.7        |\n-----------------------------------------\n-----------------------------------------\n| rollout/                |             |\n|    ep_len_mean          | 60          |\n|    ep_rew_mean          | -23.4       |\n| time/                   |             |\n|    fps                  | 2512        |\n|    iterations           | 13          |\n|    time_elapsed         | 10          |\n|    total_timesteps      | 26624       |\n| train/                  |             |\n|    approx_kl            | 0.005045391 |\n|    clip_fraction        | 0.0161      |\n|    clip_range           | 0.2         |\n|    entropy_loss         | -0.827      |\n|    explained_variance   | 0.00157     |\n|    learning_rate        | 0.0003      |\n|    loss                 | 50.3        |\n|    n_updates            | 120         |\n|    policy_gradient_loss | -0.000301   |\n|    value_loss           | 99.7        |\n-----------------------------------------\n------------------------------------------\n| rollout/                |              |\n|    ep_len_mean          | 60           |\n|    ep_rew_mean          | -20.3        |\n| time/                   |              |\n|    fps                  | 2521         |\n|    iterations           | 14           |\n|    time_elapsed         | 11           |\n|    total_timesteps      | 28672        |\n| train/                  |              |\n|    approx_kl            | 0.0011522826 |\n|    clip_fraction        | 0.0344       |\n|    clip_range           | 0.2          |\n|    entropy_loss         | -0.811       |\n|    explained_variance   | 0.0133       |\n|    learning_rate        | 0.0003       |\n|    loss                 | 37.4         |\n|    n_updates            | 130          |\n|    policy_gradient_loss | -0.00406     |\n|    value_loss           | 83.2         |\n------------------------------------------\n------------------------------------------\n| rollout/                |              |\n|    ep_len_mean          | 60           |\n|    ep_rew_mean          | -17.6        |\n| time/                   |              |\n|    fps                  | 2529         |\n|    iterations           | 15           |\n|    time_elapsed         | 12           |\n|    total_timesteps      | 30720        |\n| train/                  |              |\n|    approx_kl            | 0.0013476391 |\n|    clip_fraction        | 0.025        |\n|    clip_range           | 0.2          |\n|    entropy_loss         | -0.787       |\n|    explained_variance   | 0.0117       |\n|    learning_rate        | 0.0003       |\n|    loss                 | 41.4         |\n|    n_updates            | 140          |\n|    policy_gradient_loss | -0.00195     |\n|    value_loss           | 83.1         |\n------------------------------------------\n-----------------------------------------\n| rollout/                |             |\n|    ep_len_mean          | 60          |\n|    ep_rew_mean          | -19.8       |\n| time/                   |             |\n|    fps                  | 2534        |\n|    iterations           | 16          |\n|    time_elapsed         | 12          |\n|    total_timesteps      | 32768       |\n| train/                  |             |\n|    approx_kl            | 0.001800183 |\n|    clip_fraction        | 0.0021      |\n|    clip_range           | 0.2         |\n|    entropy_loss         | -0.788      |\n|    explained_variance   | -0.00187    |\n|    learning_rate        | 0.0003      |\n|    loss                 | 49.3        |\n|    n_updates            | 150         |\n|    policy_gradient_loss | -0.000421   |\n|    value_loss           | 95.4        |\n-----------------------------------------\n-----------------------------------------\n| rollout/                |             |\n|    ep_len_mean          | 60          |\n|    ep_rew_mean          | -18         |\n| time/                   |             |\n|    fps                  | 2540        |\n|    iterations           | 17          |\n|    time_elapsed         | 13          |\n|    total_timesteps      | 34816       |\n| train/                  |             |\n|    approx_kl            | 0.004178459 |\n|    clip_fraction        | 0.0304      |\n|    clip_range           | 0.2         |\n|    entropy_loss         | -0.798      |\n|    explained_variance   | -0.00536    |\n|    learning_rate        | 0.0003      |\n|    loss                 | 46.4        |\n|    n_updates            | 160         |\n|    policy_gradient_loss | -0.00118    |\n|    value_loss           | 80.9        |\n-----------------------------------------\n-----------------------------------------\n| rollout/                |             |\n|    ep_len_mean          | 60          |\n|    ep_rew_mean          | -19.7       |\n| time/                   |             |\n|    fps                  | 2546        |\n|    iterations           | 18          |\n|    time_elapsed         | 14          |\n|    total_timesteps      | 36864       |\n| train/                  |             |\n|    approx_kl            | 0.004983905 |\n|    clip_fraction        | 0.0352      |\n|    clip_range           | 0.2         |\n|    entropy_loss         | -0.791      |\n|    explained_variance   | -0.00349    |\n|    learning_rate        | 0.0003      |\n|    loss                 | 40.7        |\n|    n_updates            | 170         |\n|    policy_gradient_loss | -0.000375   |\n|    value_loss           | 90.2        |\n-----------------------------------------\n-----------------------------------------\n| rollout/                |             |\n|    ep_len_mean          | 60          |\n|    ep_rew_mean          | -19.8       |\n| time/                   |             |\n|    fps                  | 2551        |\n|    iterations           | 19          |\n|    time_elapsed         | 15          |\n|    total_timesteps      | 38912       |\n| train/                  |             |\n|    approx_kl            | 0.006182402 |\n|    clip_fraction        | 0.0421      |\n|    clip_range           | 0.2         |\n|    entropy_loss         | -0.744      |\n|    explained_variance   | 0.000102    |\n|    learning_rate        | 0.0003      |\n|    loss                 | 45.5        |\n|    n_updates            | 180         |\n|    policy_gradient_loss | -0.000573   |\n|    value_loss           | 83.3        |\n-----------------------------------------\n------------------------------------------\n| rollout/                |              |\n|    ep_len_mean          | 60           |\n|    ep_rew_mean          | -21.1        |\n| time/                   |              |\n|    fps                  | 2553         |\n|    iterations           | 20           |\n|    time_elapsed         | 16           |\n|    total_timesteps      | 40960        |\n| train/                  |              |\n|    approx_kl            | 0.0050151143 |\n|    clip_fraction        | 0.0582       |\n|    clip_range           | 0.2          |\n|    entropy_loss         | -0.703       |\n|    explained_variance   | 0.000647     |\n|    learning_rate        | 0.0003       |\n|    loss                 | 36.5         |\n|    n_updates            | 190          |\n|    policy_gradient_loss | -0.00468     |\n|    value_loss           | 92           |\n------------------------------------------\n"
                },
                {
                    "data": {
                        "text/plain": "\u003cstable_baselines3.ppo.ppo.PPO at 0x7efefbd06a70\u003e"
                    },
                    "execution_count": 20,
                    "metadata": {},
                    "output_type": "execute_result"
                }
            ],
            "source": [
                "# training the MlpPolicy-based model to train on our shower environment\n",
                "model.learn(total_timesteps=40000)"
            ]
        },
        {
            "cell_type": "code",
            "execution_count": 21,
            "metadata": {},
            "outputs": [],
            "source": [
                "# Create path to save model in saturn directory structure\n",
                "shower_path = os.path.join('ReinforcementLearning', 'ShowerEnvironment', 'Shower_Model_PPO')"
            ]
        },
        {
            "cell_type": "code",
            "execution_count": 22,
            "metadata": {},
            "outputs": [],
            "source": [
                "# save ppo model inside shower_path\n",
                "model.save(shower_path)"
            ]
        },
        {
            "cell_type": "code",
            "execution_count": 23,
            "metadata": {},
            "outputs": [],
            "source": [
                "# delete model to test reloading functionality\n",
                "del model"
            ]
        },
        {
            "cell_type": "code",
            "execution_count": 24,
            "metadata": {},
            "outputs": [
                {
                    "name": "stdout",
                    "output_type": "stream",
                    "text": "Wrapping the env with a `Monitor` wrapper\nWrapping the env in a DummyVecEnv.\n"
                }
            ],
            "source": [
                "# use PPO.load() to load in saved PPO model\n",
                "model = PPO.load(shower_path, env)"
            ]
        },
        {
            "cell_type": "code",
            "execution_count": 25,
            "metadata": {},
            "outputs": [
                {
                    "name": "stderr",
                    "output_type": "stream",
                    "text": "/usr/lib/python3.10/site-packages/stable_baselines3/common/evaluation.py:65: UserWarning: Evaluation environment is not wrapped with a ``Monitor`` wrapper. This may result in reporting modified episode lengths and rewards, if other wrappers happen to modify these. Consider wrapping environment first with ``Monitor`` wrapper.\n  warnings.warn(\n"
                },
                {
                    "data": {
                        "text/plain": "(-12.0, 58.787753826796276)"
                    },
                    "execution_count": 25,
                    "metadata": {},
                    "output_type": "execute_result"
                }
            ],
            "source": [
                "# use evaluate_policy to test if model is\n",
                "evaluate_policy(model, env, n_eval_episodes=10)"
            ]
        },
        {
            "cell_type": "code",
            "execution_count": 26,
            "metadata": {},
            "outputs": [],
            "source": [
                ""
            ]
        }
    ]
}
